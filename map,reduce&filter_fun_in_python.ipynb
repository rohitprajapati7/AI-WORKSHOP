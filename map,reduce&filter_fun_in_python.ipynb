{
  "nbformat": 4,
  "nbformat_minor": 0,
  "metadata": {
    "colab": {
      "name": "map,reduce&filter fun in python.ipynb",
      "provenance": [],
      "authorship_tag": "ABX9TyMPTW2+wsxROYBsm5HCG6SM",
      "include_colab_link": true
    },
    "kernelspec": {
      "name": "python3",
      "display_name": "Python 3"
    }
  },
  "cells": [
    {
      "cell_type": "markdown",
      "metadata": {
        "id": "view-in-github",
        "colab_type": "text"
      },
      "source": [
        "<a href=\"https://colab.research.google.com/github/rohitprajapati7/AI-WORKSHOP/blob/master/map%2Creduce%26filter_fun_in_python.ipynb\" target=\"_parent\"><img src=\"https://colab.research.google.com/assets/colab-badge.svg\" alt=\"Open In Colab\"/></a>"
      ]
    },
    {
      "cell_type": "code",
      "metadata": {
        "id": "4Q54Yv9omspI",
        "colab_type": "code",
        "colab": {
          "base_uri": "https://localhost:8080/",
          "height": 34
        },
        "outputId": "63ac6f90-dccf-4f64-9c02-ead7f72cd48d"
      },
      "source": [
        "list1=[1,2,3,4,5]\n",
        "def f1(x):\n",
        "  return x**3\n",
        "f1(list1[0])\n",
        "f1(list1[1])\n"
      ],
      "execution_count": 8,
      "outputs": [
        {
          "output_type": "execute_result",
          "data": {
            "text/plain": [
              "8"
            ]
          },
          "metadata": {
            "tags": []
          },
          "execution_count": 8
        }
      ]
    },
    {
      "cell_type": "code",
      "metadata": {
        "id": "wmOZ2pLanFY9",
        "colab_type": "code",
        "colab": {
          "base_uri": "https://localhost:8080/",
          "height": 34
        },
        "outputId": "5629020d-26f7-4993-9226-502c19d97edf"
      },
      "source": [
        "#map function in python\n",
        "\n",
        "#map function it takes two parameters\n",
        "#first parameter takes function and second take data\n",
        "list(map(f1,list1)) #list is for convert result into list that way we set list"
      ],
      "execution_count": 9,
      "outputs": [
        {
          "output_type": "execute_result",
          "data": {
            "text/plain": [
              "[1, 8, 27, 64, 125]"
            ]
          },
          "metadata": {
            "tags": []
          },
          "execution_count": 9
        }
      ]
    },
    {
      "cell_type": "code",
      "metadata": {
        "id": "g_5-KkTTqDPo",
        "colab_type": "code",
        "colab": {
          "base_uri": "https://localhost:8080/",
          "height": 34
        },
        "outputId": "4cb5a709-7da2-42d5-cb20-9151073d183a"
      },
      "source": [
        "list(map(lambda x:x**3,list1))"
      ],
      "execution_count": 10,
      "outputs": [
        {
          "output_type": "execute_result",
          "data": {
            "text/plain": [
              "[1, 8, 27, 64, 125]"
            ]
          },
          "metadata": {
            "tags": []
          },
          "execution_count": 10
        }
      ]
    },
    {
      "cell_type": "code",
      "metadata": {
        "id": "f-J68N23nn7E",
        "colab_type": "code",
        "colab": {
          "base_uri": "https://localhost:8080/",
          "height": 34
        },
        "outputId": "d0b60070-8d7a-4def-9462-55c1380be1a6"
      },
      "source": [
        "list1=['rohit','prajapati','rohit1']\n",
        "def f2(str1):\n",
        "  return len(str1)\n",
        "list(map(f2,list1))"
      ],
      "execution_count": 11,
      "outputs": [
        {
          "output_type": "execute_result",
          "data": {
            "text/plain": [
              "[5, 9, 6]"
            ]
          },
          "metadata": {
            "tags": []
          },
          "execution_count": 11
        }
      ]
    },
    {
      "cell_type": "code",
      "metadata": {
        "id": "7a7pYFezogVL",
        "colab_type": "code",
        "colab": {
          "base_uri": "https://localhost:8080/",
          "height": 34
        },
        "outputId": "44692ff2-abdd-4931-c4b4-af07e907a16e"
      },
      "source": [
        "#lambda function\n",
        "#first write lambda keyword than colon before what take input and after colon what it will return\n",
        "#lambda it define annoymous function\n",
        "list(map(lambda str1: len(str1),list1))\n"
      ],
      "execution_count": 12,
      "outputs": [
        {
          "output_type": "execute_result",
          "data": {
            "text/plain": [
              "[5, 9, 6]"
            ]
          },
          "metadata": {
            "tags": []
          },
          "execution_count": 12
        }
      ]
    },
    {
      "cell_type": "code",
      "metadata": {
        "id": "lTtmwBzQo_RB",
        "colab_type": "code",
        "colab": {
          "base_uri": "https://localhost:8080/",
          "height": 34
        },
        "outputId": "5c2d6071-5d05-44e7-b4a5-c942373d4bd0"
      },
      "source": [
        "list2=[10,20,30,40]\n",
        "def fun(x):\n",
        "  return x+1\n",
        "list(map(fun,list2))"
      ],
      "execution_count": 15,
      "outputs": [
        {
          "output_type": "execute_result",
          "data": {
            "text/plain": [
              "[11, 21, 31, 41]"
            ]
          },
          "metadata": {
            "tags": []
          },
          "execution_count": 15
        }
      ]
    },
    {
      "cell_type": "code",
      "metadata": {
        "id": "8d-Xc1SmrR4w",
        "colab_type": "code",
        "colab": {
          "base_uri": "https://localhost:8080/",
          "height": 34
        },
        "outputId": "1ffd8062-0e38-498c-d850-b4fa5b894437"
      },
      "source": [
        "list(map(lambda x:x+1, list2))"
      ],
      "execution_count": 19,
      "outputs": [
        {
          "output_type": "execute_result",
          "data": {
            "text/plain": [
              "[11, 21, 31, 41]"
            ]
          },
          "metadata": {
            "tags": []
          },
          "execution_count": 19
        }
      ]
    },
    {
      "cell_type": "code",
      "metadata": {
        "id": "P8B7epExroTh",
        "colab_type": "code",
        "colab": {}
      },
      "source": [
        "list1=[10,3,5,12,16]\n",
        "def f4(x):\n",
        "  if x>10:\n",
        "    return True\n",
        "  else:\n",
        "    return False\n",
        "  "
      ],
      "execution_count": 0,
      "outputs": []
    },
    {
      "cell_type": "code",
      "metadata": {
        "id": "C3QJTJiVsJqI",
        "colab_type": "code",
        "colab": {
          "base_uri": "https://localhost:8080/",
          "height": 34
        },
        "outputId": "31838883-5194-4df8-b1cf-60d14ed8b2da"
      },
      "source": [
        "list(filter(f4, list1))"
      ],
      "execution_count": 22,
      "outputs": [
        {
          "output_type": "execute_result",
          "data": {
            "text/plain": [
              "[12, 16]"
            ]
          },
          "metadata": {
            "tags": []
          },
          "execution_count": 22
        }
      ]
    },
    {
      "cell_type": "code",
      "metadata": {
        "id": "6dsLgfggshoD",
        "colab_type": "code",
        "colab": {
          "base_uri": "https://localhost:8080/",
          "height": 34
        },
        "outputId": "3108416b-09ba-4703-8836-11e546a2e491"
      },
      "source": [
        "list1=['jaipur','udaipur','kota','bikaner']\n",
        "def f5(str):\n",
        "  if 'pur' in str:\n",
        "    return True\n",
        "  else:\n",
        "    return False\n",
        "list(filter(f5, list1))"
      ],
      "execution_count": 28,
      "outputs": [
        {
          "output_type": "execute_result",
          "data": {
            "text/plain": [
              "['jaipur', 'udaipur']"
            ]
          },
          "metadata": {
            "tags": []
          },
          "execution_count": 28
        }
      ]
    },
    {
      "cell_type": "code",
      "metadata": {
        "id": "LueNVoq3t69T",
        "colab_type": "code",
        "colab": {
          "base_uri": "https://localhost:8080/",
          "height": 34
        },
        "outputId": "704309ed-13ea-4838-be24-330e5228008f"
      },
      "source": [
        "#reduce function in python\n",
        "# reduce avaiable in functools library\n",
        "import functools\n",
        "list1=[1,2,3,4,5,6,7,8,9,10]\n",
        "def f6(x,y):\n",
        "  return x+y\n",
        "functools.reduce(f6,list1)"
      ],
      "execution_count": 29,
      "outputs": [
        {
          "output_type": "execute_result",
          "data": {
            "text/plain": [
              "55"
            ]
          },
          "metadata": {
            "tags": []
          },
          "execution_count": 29
        }
      ]
    },
    {
      "cell_type": "code",
      "metadata": {
        "id": "jLSdy-9evXos",
        "colab_type": "code",
        "colab": {
          "base_uri": "https://localhost:8080/",
          "height": 34
        },
        "outputId": "8b8dc3d2-2bb8-4940-a6e0-26b419a3e8e9"
      },
      "source": [
        "#another way\n",
        "functools.reduce(f6,[1,2,3,4,5,6,7,8,9,10])\n",
        "#reduce always return single values"
      ],
      "execution_count": 30,
      "outputs": [
        {
          "output_type": "execute_result",
          "data": {
            "text/plain": [
              "55"
            ]
          },
          "metadata": {
            "tags": []
          },
          "execution_count": 30
        }
      ]
    },
    {
      "cell_type": "code",
      "metadata": {
        "id": "G6jIqmF2wB89",
        "colab_type": "code",
        "colab": {
          "base_uri": "https://localhost:8080/",
          "height": 34
        },
        "outputId": "ff8873e4-e66c-4430-9a2b-a58e9954de29"
      },
      "source": [
        "#map & reduce use in data analytics\n",
        "tuple1=(1,2,3,4,5)\n",
        "tuple1"
      ],
      "execution_count": 31,
      "outputs": [
        {
          "output_type": "execute_result",
          "data": {
            "text/plain": [
              "(1, 2, 3, 4, 5)"
            ]
          },
          "metadata": {
            "tags": []
          },
          "execution_count": 31
        }
      ]
    },
    {
      "cell_type": "code",
      "metadata": {
        "id": "8R85sbKfwyrL",
        "colab_type": "code",
        "colab": {
          "base_uri": "https://localhost:8080/",
          "height": 34
        },
        "outputId": "9fc842cf-2c75-460f-cbe9-4f0988baa6d5"
      },
      "source": [
        "type(tuple1) #tuples are read only"
      ],
      "execution_count": 32,
      "outputs": [
        {
          "output_type": "execute_result",
          "data": {
            "text/plain": [
              "tuple"
            ]
          },
          "metadata": {
            "tags": []
          },
          "execution_count": 32
        }
      ]
    },
    {
      "cell_type": "code",
      "metadata": {
        "id": "hkGlFfs4w3eU",
        "colab_type": "code",
        "colab": {
          "base_uri": "https://localhost:8080/",
          "height": 34
        },
        "outputId": "191f007e-3865-4c06-8afe-409f572ef96b"
      },
      "source": [
        "tuple1.index(2)"
      ],
      "execution_count": 33,
      "outputs": [
        {
          "output_type": "execute_result",
          "data": {
            "text/plain": [
              "1"
            ]
          },
          "metadata": {
            "tags": []
          },
          "execution_count": 33
        }
      ]
    },
    {
      "cell_type": "code",
      "metadata": {
        "id": "-peiPdv7xGMA",
        "colab_type": "code",
        "colab": {
          "base_uri": "https://localhost:8080/",
          "height": 34
        },
        "outputId": "17dfb1d4-7f68-4726-92f4-677bebafd55a"
      },
      "source": [
        "tp2=(3) #single value without coma it call int value\n",
        "tp2"
      ],
      "execution_count": 35,
      "outputs": [
        {
          "output_type": "execute_result",
          "data": {
            "text/plain": [
              "3"
            ]
          },
          "metadata": {
            "tags": []
          },
          "execution_count": 35
        }
      ]
    },
    {
      "cell_type": "code",
      "metadata": {
        "id": "EmEqW5yLxIy1",
        "colab_type": "code",
        "colab": {
          "base_uri": "https://localhost:8080/",
          "height": 34
        },
        "outputId": "2141fc4c-f2a4-4a2c-9dac-65600fd4252d"
      },
      "source": [
        "type(tp2)"
      ],
      "execution_count": 36,
      "outputs": [
        {
          "output_type": "execute_result",
          "data": {
            "text/plain": [
              "int"
            ]
          },
          "metadata": {
            "tags": []
          },
          "execution_count": 36
        }
      ]
    },
    {
      "cell_type": "code",
      "metadata": {
        "id": "aAITaWKaxMuw",
        "colab_type": "code",
        "colab": {
          "base_uri": "https://localhost:8080/",
          "height": 34
        },
        "outputId": "cfd29222-62f5-4196-841e-1b31db5ffc90"
      },
      "source": [
        "tp3=(1,)\n",
        "type(tp3)"
      ],
      "execution_count": 37,
      "outputs": [
        {
          "output_type": "execute_result",
          "data": {
            "text/plain": [
              "tuple"
            ]
          },
          "metadata": {
            "tags": []
          },
          "execution_count": 37
        }
      ]
    },
    {
      "cell_type": "code",
      "metadata": {
        "id": "2q_oYciJxWaH",
        "colab_type": "code",
        "colab": {}
      },
      "source": [
        ""
      ],
      "execution_count": 0,
      "outputs": []
    }
  ]
}